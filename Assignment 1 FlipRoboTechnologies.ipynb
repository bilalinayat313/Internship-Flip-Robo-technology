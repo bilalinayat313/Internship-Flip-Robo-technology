{
 "cells": [
  {
   "cell_type": "markdown",
   "id": "f8cd9b59",
   "metadata": {},
   "source": [
    "#Q1)"
   ]
  },
  {
   "cell_type": "code",
   "execution_count": 6,
   "id": "6a3e1e0e",
   "metadata": {},
   "outputs": [
    {
     "name": "stdout",
     "output_type": "stream",
     "text": [
      "Python:Exercises::PHP:exercises:\n"
     ]
    }
   ],
   "source": [
    "import re\n",
    "sample_text='Python Exercises, PHP exercises.'\n",
    "needed=sample_text.replace(' ', ':').replace(',', ':').replace('.', ':')\n",
    "\n",
    "print(needed)"
   ]
  },
  {
   "cell_type": "code",
   "execution_count": null,
   "id": "07d8f643",
   "metadata": {},
   "outputs": [],
   "source": [
    "#Q2)"
   ]
  },
  {
   "cell_type": "code",
   "execution_count": 7,
   "id": "9def2fd5",
   "metadata": {
    "scrolled": true
   },
   "outputs": [
    {
     "name": "stdout",
     "output_type": "stream",
     "text": [
      "0      hello world\n",
      "1             test\n",
      "2    four five six\n",
      "Name: SUMMARY, dtype: object\n"
     ]
    }
   ],
   "source": [
    "import pandas as pd\n",
    "dictionary= {'SUMMARY': ['hello, world!', 'XXXXX test', '123four, five:; six...']}\n",
    "df = pd.DataFrame(dictionary)\n",
    "df= df['SUMMARY'].str.replace('[^a-zA-Z\\s]|[X]', '', regex=True)\n",
    "\n",
    "print(df)"
   ]
  },
  {
   "cell_type": "code",
   "execution_count": null,
   "id": "0c651786",
   "metadata": {},
   "outputs": [],
   "source": [
    "#Q3)"
   ]
  },
  {
   "cell_type": "code",
   "execution_count": 186,
   "id": "d32ec8c7",
   "metadata": {},
   "outputs": [
    {
     "name": "stdout",
     "output_type": "stream",
     "text": [
      "<class 'str'>\n",
      "['test', 'five']\n"
     ]
    }
   ],
   "source": [
    "import re\n",
    "#Q3)\n",
    "string=r\"\\b\\w{4}\\b\"\n",
    "print(type(string))\n",
    "str1= \"hello world!' 'XXXXX test' '123four five six...\"\n",
    "regex_pattern=re.compile(string)\n",
    "result=regex_pattern.findall(str1)\n",
    "print(result)"
   ]
  },
  {
   "cell_type": "code",
   "execution_count": 184,
   "id": "68859c1d",
   "metadata": {},
   "outputs": [
    {
     "name": "stdout",
     "output_type": "stream",
     "text": [
      "[]\n"
     ]
    }
   ],
   "source": [
    "#Q#4)\n",
    "\n",
    "target=(r\"\\b\\w{3,4,5}\\b\")\n",
    "\n",
    "str1= \"hello world!' 'XXXXX test'121 222  '123four five six...\"\n",
    "regex_pattern=re.compile(r\"\\b\\w{3,4,5}\\b\")\n",
    "result=regex_pattern.findall(str1)\n",
    "print(result)"
   ]
  },
  {
   "cell_type": "code",
   "execution_count": 187,
   "id": "78d15f02",
   "metadata": {},
   "outputs": [
    {
     "ename": "NameError",
     "evalue": "name 'find_words' is not defined",
     "output_type": "error",
     "traceback": [
      "\u001b[1;31m---------------------------------------------------------------------------\u001b[0m",
      "\u001b[1;31mNameError\u001b[0m                                 Traceback (most recent call last)",
      "Cell \u001b[1;32mIn[187], line 4\u001b[0m\n\u001b[0;32m      2\u001b[0m string \u001b[38;5;241m=\u001b[39m \u001b[38;5;124m\"\u001b[39m\u001b[38;5;124monce upon a time there was a king his name is Akbar.\u001b[39m\u001b[38;5;124m\"\u001b[39m\n\u001b[0;32m      3\u001b[0m matches \u001b[38;5;241m=\u001b[39m pattern\u001b[38;5;241m.\u001b[39mfindall(string)\n\u001b[1;32m----> 4\u001b[0m result \u001b[38;5;241m=\u001b[39m find_words(string)\n\u001b[0;32m      5\u001b[0m \u001b[38;5;28mprint\u001b[39m(result)\n",
      "\u001b[1;31mNameError\u001b[0m: name 'find_words' is not defined"
     ]
    }
   ],
   "source": [
    "pattern = re.compile(r'\\b\\w{3,5}\\b')\n",
    "string = \"once upon a time there was a king his name is Akbar.\"\n",
    "matches = pattern.findall(string)\n",
    "result = find_words(string)\n",
    "print(result)"
   ]
  },
  {
   "cell_type": "code",
   "execution_count": 192,
   "id": "3d636f0d",
   "metadata": {},
   "outputs": [
    {
     "name": "stdout",
     "output_type": "stream",
     "text": [
      "<class 'str'>\n",
      "['hello', 'world', 'test', 'five', 'six']\n"
     ]
    }
   ],
   "source": [
    "string=(r'\\b\\w{3,5}\\b')\n",
    "print(type(string))\n",
    "str1= \"hello world!' 'XXXXXX test' '123four five six...\"\n",
    "regex_pattern=re.compile(string)\n",
    "result=regex_pattern.findall(str1)\n",
    "print(result)"
   ]
  },
  {
   "cell_type": "code",
   "execution_count": 198,
   "id": "5c1be9ff",
   "metadata": {},
   "outputs": [
    {
     "ename": "SyntaxError",
     "evalue": "invalid syntax. Perhaps you forgot a comma? (2502498926.py, line 4)",
     "output_type": "error",
     "traceback": [
      "\u001b[1;36m  Cell \u001b[1;32mIn[198], line 4\u001b[1;36m\u001b[0m\n\u001b[1;33m    print(re_parenthesis.sub(\"\", item)\u001b[0m\n\u001b[1;37m          ^\u001b[0m\n\u001b[1;31mSyntaxError\u001b[0m\u001b[1;31m:\u001b[0m invalid syntax. Perhaps you forgot a comma?\n"
     ]
    }
   ],
   "source": [
    "def remove_parenthesis(text):\n",
    "    for item in text:\n",
    "        re_parenthesis=re.compile(r\" ?\\(| ?\\)\")\n",
    "        print(re_parenthesis.sub(\"\", item)\n",
    "              item= [\"example (.com)\", \"hr@fliprobo (.com)\", \"github (.com)\", \"Hello ( Data Science Wremove_parenthesis(items)\""
   ]
  },
  {
   "cell_type": "code",
   "execution_count": null,
   "id": "a8652d7e",
   "metadata": {},
   "outputs": [],
   "source": [
    "#Q5)\n"
   ]
  },
  {
   "cell_type": "code",
   "execution_count": 52,
   "id": "598c2893",
   "metadata": {},
   "outputs": [
    {
     "name": "stdout",
     "output_type": "stream",
     "text": [
      "<class 'tuple'>\n"
     ]
    },
    {
     "ename": "TypeError",
     "evalue": "first argument must be string or compiled pattern",
     "output_type": "error",
     "traceback": [
      "\u001b[1;31m---------------------------------------------------------------------------\u001b[0m",
      "\u001b[1;31mTypeError\u001b[0m                                 Traceback (most recent call last)",
      "Cell \u001b[1;32mIn[52], line 4\u001b[0m\n\u001b[0;32m      2\u001b[0m \u001b[38;5;28mprint\u001b[39m(\u001b[38;5;28mtype\u001b[39m(string))\n\u001b[0;32m      3\u001b[0m str1\u001b[38;5;241m=\u001b[39m \u001b[38;5;124m\"\u001b[39m\u001b[38;5;124mhello world!\u001b[39m\u001b[38;5;124m'\u001b[39m\u001b[38;5;124m \u001b[39m\u001b[38;5;124m'\u001b[39m\u001b[38;5;124mXXXXXX test\u001b[39m\u001b[38;5;124m'\u001b[39m\u001b[38;5;124m \u001b[39m\u001b[38;5;124m'\u001b[39m\u001b[38;5;124m123four five six...\u001b[39m\u001b[38;5;124m\"\u001b[39m\n\u001b[1;32m----> 4\u001b[0m regex_pattern\u001b[38;5;241m=\u001b[39mre\u001b[38;5;241m.\u001b[39mcompile(string)\n\u001b[0;32m      5\u001b[0m result\u001b[38;5;241m=\u001b[39mregex_pattern\u001b[38;5;241m.\u001b[39msubn(str1)\n\u001b[0;32m      6\u001b[0m \u001b[38;5;28mprint\u001b[39m(result)\n",
      "File \u001b[1;32m~\\anaconda3\\Lib\\re\\__init__.py:227\u001b[0m, in \u001b[0;36mcompile\u001b[1;34m(pattern, flags)\u001b[0m\n\u001b[0;32m    225\u001b[0m \u001b[38;5;28;01mdef\u001b[39;00m \u001b[38;5;21mcompile\u001b[39m(pattern, flags\u001b[38;5;241m=\u001b[39m\u001b[38;5;241m0\u001b[39m):\n\u001b[0;32m    226\u001b[0m     \u001b[38;5;124m\"\u001b[39m\u001b[38;5;124mCompile a regular expression pattern, returning a Pattern object.\u001b[39m\u001b[38;5;124m\"\u001b[39m\n\u001b[1;32m--> 227\u001b[0m     \u001b[38;5;28;01mreturn\u001b[39;00m _compile(pattern, flags)\n",
      "File \u001b[1;32m~\\anaconda3\\Lib\\re\\__init__.py:286\u001b[0m, in \u001b[0;36m_compile\u001b[1;34m(pattern, flags)\u001b[0m\n\u001b[0;32m    284\u001b[0m     \u001b[38;5;28;01mreturn\u001b[39;00m pattern\n\u001b[0;32m    285\u001b[0m \u001b[38;5;28;01mif\u001b[39;00m \u001b[38;5;129;01mnot\u001b[39;00m _compiler\u001b[38;5;241m.\u001b[39misstring(pattern):\n\u001b[1;32m--> 286\u001b[0m     \u001b[38;5;28;01mraise\u001b[39;00m \u001b[38;5;167;01mTypeError\u001b[39;00m(\u001b[38;5;124m\"\u001b[39m\u001b[38;5;124mfirst argument must be string or compiled pattern\u001b[39m\u001b[38;5;124m\"\u001b[39m)\n\u001b[0;32m    287\u001b[0m \u001b[38;5;28;01mif\u001b[39;00m flags \u001b[38;5;241m&\u001b[39m T:\n\u001b[0;32m    288\u001b[0m     \u001b[38;5;28;01mimport\u001b[39;00m \u001b[38;5;21;01mwarnings\u001b[39;00m\n",
      "\u001b[1;31mTypeError\u001b[0m: first argument must be string or compiled pattern"
     ]
    }
   ],
   "source": [
    "string=re.subn(r\"\\b\\W+\\b\",\"\",str1)\n",
    "print(type(string))\n",
    "str1= \"hello world!' 'XXXXXX test' '123four five six...\"\n",
    "regex_pattern=re.compile(string)\n",
    "result=regex_pattern.subn(str1)\n",
    "print(result)"
   ]
  },
  {
   "cell_type": "code",
   "execution_count": 46,
   "id": "067a2bb3",
   "metadata": {},
   "outputs": [
    {
     "ename": "IndentationError",
     "evalue": "expected an indented block after 'for' statement on line 4 (3536399958.py, line 5)",
     "output_type": "error",
     "traceback": [
      "\u001b[1;36m  Cell \u001b[1;32mIn[46], line 5\u001b[1;36m\u001b[0m\n\u001b[1;33m    modified_string = re.sub(pattern, \"\", string)\u001b[0m\n\u001b[1;37m    ^\u001b[0m\n\u001b[1;31mIndentationError\u001b[0m\u001b[1;31m:\u001b[0m expected an indented block after 'for' statement on line 4\n"
     ]
    }
   ],
   "source": [
    "def remove_parentheses(strings):\n",
    "  pattern = re.compile(r\"\\(\\)\")\n",
    "  modified_strings = []\n",
    "  for string in strings:\n",
    "  modified_string = re.sub(pattern, \"\", string)\n",
    "  modified_strings.append(modified_string)\n",
    "  return modified_strings\n",
    "\n",
    "\n",
    "sample_text = [\"example (.com)\", \"hr@fliprobo (.com)\", \"github (.com)\", \"Hello (Data Science World)\", \"Data (Scientist)\"]\n",
    "result = remove_parentheses(sample_text)\n",
    "print(result)"
   ]
  },
  {
   "cell_type": "code",
   "execution_count": null,
   "id": "476d3486",
   "metadata": {},
   "outputs": [],
   "source": []
  },
  {
   "cell_type": "code",
   "execution_count": 81,
   "id": "d43802da",
   "metadata": {},
   "outputs": [
    {
     "name": "stdout",
     "output_type": "stream",
     "text": [
      "[example (.com)hr@fliprobo (.com)github (.com)Hello (Data Science World)Data (Scientist)]\n"
     ]
    }
   ],
   "source": [
    "y= (r\"(.com Data Science World)\")                  # must check the upper and lower case bc it is sensetive about it\n",
    "text_=\"[example (.com)\" \"hr@fliprobo (.com)\" \"github (.com)\" \"Hello (Data Science World)\" \"Data (Scientist)]\"\n",
    "match=re.sub(y,\"\",text_)\n",
    "print(match)"
   ]
  },
  {
   "cell_type": "code",
   "execution_count": 88,
   "id": "fc3ee7be",
   "metadata": {},
   "outputs": [
    {
     "name": "stdout",
     "output_type": "stream",
     "text": [
      "('exaple \" \"hr@fliprb \" \"github \" \"Hell Data Siene Wrld\" \"Data Sientist', 30)\n"
     ]
    }
   ],
   "source": [
    "replacement_inside=re.subn(r'[\\b(.com)\\b]','','example (.com)\" \"hr@fliprobo (.com)\" \"github (.com)\" \"Hello (Data Science World)\" \"Data (Scientist)')    # replacement occure for a single time for combine\n",
    "print(replacement_inside)"
   ]
  },
  {
   "cell_type": "code",
   "execution_count": null,
   "id": "ed472145",
   "metadata": {},
   "outputs": [],
   "source": []
  },
  {
   "cell_type": "code",
   "execution_count": null,
   "id": "0310c2dd",
   "metadata": {},
   "outputs": [],
   "source": [
    "Sample_text: “ImportanceOfRegularExpressionsInPython”\n",
    "    "
   ]
  },
  {
   "cell_type": "code",
   "execution_count": 105,
   "id": "49eda502",
   "metadata": {},
   "outputs": [
    {
     "name": "stdout",
     "output_type": "stream",
     "text": [
      "['“Importance', 'Of', 'Regular', 'Expressions', 'In', 'Python”']\n"
     ]
    }
   ],
   "source": [
    "sample=\"“ImportanceOfRegularExpressionsInPython”\"\n",
    "match=r'(?<=[a-z])(?=[A-Z])'\n",
    "required= re.split(match, sample)\n",
    "print(required)"
   ]
  },
  {
   "cell_type": "code",
   "execution_count": 101,
   "id": "f165af12",
   "metadata": {},
   "outputs": [
    {
     "name": "stdout",
     "output_type": "stream",
     "text": [
      "['Importance', 'Of', 'Regular', 'Expressions', 'In', 'Python']\n"
     ]
    }
   ],
   "source": [
    "import re\n",
    "\n",
    "# Sample text\n",
    "text = \"ImportanceOfRegularExpressionsInPython\"\n",
    "\n",
    "# Regular expression to match uppercase letters\n",
    "pattern = r'(?<=[a-z])(?=[A-Z])'\n",
    "\n",
    "# Split the text at each uppercase letter\n",
    "split_text = re.split(pattern, text)\n",
    "\n",
    "print(split_text)"
   ]
  },
  {
   "cell_type": "code",
   "execution_count": null,
   "id": "07c4d533",
   "metadata": {},
   "outputs": [],
   "source": [
    "text=\"This is python language.\"\n",
    "match=re.split(\"\\s\",text)\n",
    "print(match)"
   ]
  },
  {
   "cell_type": "code",
   "execution_count": 6,
   "id": "f4323f5e",
   "metadata": {},
   "outputs": [],
   "source": [
    "#Q8) import \n",
    "import re"
   ]
  },
  {
   "cell_type": "code",
   "execution_count": 13,
   "id": "fc859c34",
   "metadata": {},
   "outputs": [
    {
     "name": "stdout",
     "output_type": "stream",
     "text": [
      "RegularExpression 1IsAn 2ImportantTopic 3InPython\n"
     ]
    }
   ],
   "source": [
    "sample_text=\"RegularExpression1IsAn2ImportantTopic3InPython\"\n",
    "pattern= r'(?<=[a-zA-Z])(?=\\d)'\n",
    "required_text= re.sub(pattern, ' ', sample_text)\n",
    "print(required_text)"
   ]
  },
  {
   "cell_type": "code",
   "execution_count": 10,
   "id": "940904a4",
   "metadata": {},
   "outputs": [],
   "source": [
    "#Q9)\n"
   ]
  },
  {
   "cell_type": "code",
   "execution_count": 45,
   "id": "7f6a4bc3",
   "metadata": {},
   "outputs": [
    {
     "name": "stdout",
     "output_type": "stream",
     "text": [
      "RegularExpression1 IsAn2 ImportantTopic3 InPython\n"
     ]
    }
   ],
   "source": [
    "sample_text=\"RegularExpression1IsAn2ImportantTopic3InPython\"\n",
    "pattern= r'(?<=[0-9])(?=[a-zA-Z0-9])'\n",
    "required_text= re.sub(pattern,' ',sample_text)\n",
    "print(required_text)"
   ]
  },
  {
   "cell_type": "code",
   "execution_count": 63,
   "id": "81496f0c",
   "metadata": {},
   "outputs": [
    {
     "name": "stdout",
     "output_type": "stream",
     "text": [
      "RegularExpression1IsAn2ImportantTopic3InPython\n"
     ]
    }
   ],
   "source": [
    "sample_text=\"RegularExpression1IsAn2ImportantTopic3InPython\"\n",
    "pattern= r'(?<=[a-zA-Z])(?=\\b\\d\\b)'\n",
    "required_text= re.sub(pattern, ' ', sample_text)\n",
    "print(required_text)"
   ]
  },
  {
   "cell_type": "code",
   "execution_count": null,
   "id": "e7234363",
   "metadata": {},
   "outputs": [],
   "source": [
    "#Q10)"
   ]
  },
  {
   "cell_type": "code",
   "execution_count": 51,
   "id": "5917c869",
   "metadata": {},
   "outputs": [],
   "source": [
    "import pandas as pd \n",
    "import regex as re\n",
    "df=pd.read_csv(\"https://raw.githubusercontent.com/dsrscientist/DSData/master/happiness_score_dataset.csv\")"
   ]
  },
  {
   "cell_type": "code",
   "execution_count": 52,
   "id": "34ad79f2",
   "metadata": {},
   "outputs": [
    {
     "data": {
      "text/html": [
       "<div>\n",
       "<style scoped>\n",
       "    .dataframe tbody tr th:only-of-type {\n",
       "        vertical-align: middle;\n",
       "    }\n",
       "\n",
       "    .dataframe tbody tr th {\n",
       "        vertical-align: top;\n",
       "    }\n",
       "\n",
       "    .dataframe thead th {\n",
       "        text-align: right;\n",
       "    }\n",
       "</style>\n",
       "<table border=\"1\" class=\"dataframe\">\n",
       "  <thead>\n",
       "    <tr style=\"text-align: right;\">\n",
       "      <th></th>\n",
       "      <th>Country</th>\n",
       "      <th>Region</th>\n",
       "      <th>Happiness Rank</th>\n",
       "      <th>Happiness Score</th>\n",
       "      <th>Standard Error</th>\n",
       "      <th>Economy (GDP per Capita)</th>\n",
       "      <th>Family</th>\n",
       "      <th>Health (Life Expectancy)</th>\n",
       "      <th>Freedom</th>\n",
       "      <th>Trust (Government Corruption)</th>\n",
       "      <th>Generosity</th>\n",
       "      <th>Dystopia Residual</th>\n",
       "    </tr>\n",
       "  </thead>\n",
       "  <tbody>\n",
       "    <tr>\n",
       "      <th>0</th>\n",
       "      <td>Switzerland</td>\n",
       "      <td>Western Europe</td>\n",
       "      <td>1</td>\n",
       "      <td>7.587</td>\n",
       "      <td>0.03411</td>\n",
       "      <td>1.39651</td>\n",
       "      <td>1.34951</td>\n",
       "      <td>0.94143</td>\n",
       "      <td>0.66557</td>\n",
       "      <td>0.41978</td>\n",
       "      <td>0.29678</td>\n",
       "      <td>2.51738</td>\n",
       "    </tr>\n",
       "    <tr>\n",
       "      <th>1</th>\n",
       "      <td>Iceland</td>\n",
       "      <td>Western Europe</td>\n",
       "      <td>2</td>\n",
       "      <td>7.561</td>\n",
       "      <td>0.04884</td>\n",
       "      <td>1.30232</td>\n",
       "      <td>1.40223</td>\n",
       "      <td>0.94784</td>\n",
       "      <td>0.62877</td>\n",
       "      <td>0.14145</td>\n",
       "      <td>0.43630</td>\n",
       "      <td>2.70201</td>\n",
       "    </tr>\n",
       "    <tr>\n",
       "      <th>2</th>\n",
       "      <td>Denmark</td>\n",
       "      <td>Western Europe</td>\n",
       "      <td>3</td>\n",
       "      <td>7.527</td>\n",
       "      <td>0.03328</td>\n",
       "      <td>1.32548</td>\n",
       "      <td>1.36058</td>\n",
       "      <td>0.87464</td>\n",
       "      <td>0.64938</td>\n",
       "      <td>0.48357</td>\n",
       "      <td>0.34139</td>\n",
       "      <td>2.49204</td>\n",
       "    </tr>\n",
       "    <tr>\n",
       "      <th>3</th>\n",
       "      <td>Norway</td>\n",
       "      <td>Western Europe</td>\n",
       "      <td>4</td>\n",
       "      <td>7.522</td>\n",
       "      <td>0.03880</td>\n",
       "      <td>1.45900</td>\n",
       "      <td>1.33095</td>\n",
       "      <td>0.88521</td>\n",
       "      <td>0.66973</td>\n",
       "      <td>0.36503</td>\n",
       "      <td>0.34699</td>\n",
       "      <td>2.46531</td>\n",
       "    </tr>\n",
       "    <tr>\n",
       "      <th>4</th>\n",
       "      <td>Canada</td>\n",
       "      <td>North America</td>\n",
       "      <td>5</td>\n",
       "      <td>7.427</td>\n",
       "      <td>0.03553</td>\n",
       "      <td>1.32629</td>\n",
       "      <td>1.32261</td>\n",
       "      <td>0.90563</td>\n",
       "      <td>0.63297</td>\n",
       "      <td>0.32957</td>\n",
       "      <td>0.45811</td>\n",
       "      <td>2.45176</td>\n",
       "    </tr>\n",
       "    <tr>\n",
       "      <th>...</th>\n",
       "      <td>...</td>\n",
       "      <td>...</td>\n",
       "      <td>...</td>\n",
       "      <td>...</td>\n",
       "      <td>...</td>\n",
       "      <td>...</td>\n",
       "      <td>...</td>\n",
       "      <td>...</td>\n",
       "      <td>...</td>\n",
       "      <td>...</td>\n",
       "      <td>...</td>\n",
       "      <td>...</td>\n",
       "    </tr>\n",
       "    <tr>\n",
       "      <th>153</th>\n",
       "      <td>Rwanda</td>\n",
       "      <td>Sub-Saharan Africa</td>\n",
       "      <td>154</td>\n",
       "      <td>3.465</td>\n",
       "      <td>0.03464</td>\n",
       "      <td>0.22208</td>\n",
       "      <td>0.77370</td>\n",
       "      <td>0.42864</td>\n",
       "      <td>0.59201</td>\n",
       "      <td>0.55191</td>\n",
       "      <td>0.22628</td>\n",
       "      <td>0.67042</td>\n",
       "    </tr>\n",
       "    <tr>\n",
       "      <th>154</th>\n",
       "      <td>Benin</td>\n",
       "      <td>Sub-Saharan Africa</td>\n",
       "      <td>155</td>\n",
       "      <td>3.340</td>\n",
       "      <td>0.03656</td>\n",
       "      <td>0.28665</td>\n",
       "      <td>0.35386</td>\n",
       "      <td>0.31910</td>\n",
       "      <td>0.48450</td>\n",
       "      <td>0.08010</td>\n",
       "      <td>0.18260</td>\n",
       "      <td>1.63328</td>\n",
       "    </tr>\n",
       "    <tr>\n",
       "      <th>155</th>\n",
       "      <td>Syria</td>\n",
       "      <td>Middle East and Northern Africa</td>\n",
       "      <td>156</td>\n",
       "      <td>3.006</td>\n",
       "      <td>0.05015</td>\n",
       "      <td>0.66320</td>\n",
       "      <td>0.47489</td>\n",
       "      <td>0.72193</td>\n",
       "      <td>0.15684</td>\n",
       "      <td>0.18906</td>\n",
       "      <td>0.47179</td>\n",
       "      <td>0.32858</td>\n",
       "    </tr>\n",
       "    <tr>\n",
       "      <th>156</th>\n",
       "      <td>Burundi</td>\n",
       "      <td>Sub-Saharan Africa</td>\n",
       "      <td>157</td>\n",
       "      <td>2.905</td>\n",
       "      <td>0.08658</td>\n",
       "      <td>0.01530</td>\n",
       "      <td>0.41587</td>\n",
       "      <td>0.22396</td>\n",
       "      <td>0.11850</td>\n",
       "      <td>0.10062</td>\n",
       "      <td>0.19727</td>\n",
       "      <td>1.83302</td>\n",
       "    </tr>\n",
       "    <tr>\n",
       "      <th>157</th>\n",
       "      <td>Togo</td>\n",
       "      <td>Sub-Saharan Africa</td>\n",
       "      <td>158</td>\n",
       "      <td>2.839</td>\n",
       "      <td>0.06727</td>\n",
       "      <td>0.20868</td>\n",
       "      <td>0.13995</td>\n",
       "      <td>0.28443</td>\n",
       "      <td>0.36453</td>\n",
       "      <td>0.10731</td>\n",
       "      <td>0.16681</td>\n",
       "      <td>1.56726</td>\n",
       "    </tr>\n",
       "  </tbody>\n",
       "</table>\n",
       "<p>158 rows × 12 columns</p>\n",
       "</div>"
      ],
      "text/plain": [
       "         Country                           Region  Happiness Rank  \\\n",
       "0    Switzerland                   Western Europe               1   \n",
       "1        Iceland                   Western Europe               2   \n",
       "2        Denmark                   Western Europe               3   \n",
       "3         Norway                   Western Europe               4   \n",
       "4         Canada                    North America               5   \n",
       "..           ...                              ...             ...   \n",
       "153       Rwanda               Sub-Saharan Africa             154   \n",
       "154        Benin               Sub-Saharan Africa             155   \n",
       "155        Syria  Middle East and Northern Africa             156   \n",
       "156      Burundi               Sub-Saharan Africa             157   \n",
       "157         Togo               Sub-Saharan Africa             158   \n",
       "\n",
       "     Happiness Score  Standard Error  Economy (GDP per Capita)   Family  \\\n",
       "0              7.587         0.03411                   1.39651  1.34951   \n",
       "1              7.561         0.04884                   1.30232  1.40223   \n",
       "2              7.527         0.03328                   1.32548  1.36058   \n",
       "3              7.522         0.03880                   1.45900  1.33095   \n",
       "4              7.427         0.03553                   1.32629  1.32261   \n",
       "..               ...             ...                       ...      ...   \n",
       "153            3.465         0.03464                   0.22208  0.77370   \n",
       "154            3.340         0.03656                   0.28665  0.35386   \n",
       "155            3.006         0.05015                   0.66320  0.47489   \n",
       "156            2.905         0.08658                   0.01530  0.41587   \n",
       "157            2.839         0.06727                   0.20868  0.13995   \n",
       "\n",
       "     Health (Life Expectancy)  Freedom  Trust (Government Corruption)  \\\n",
       "0                     0.94143  0.66557                        0.41978   \n",
       "1                     0.94784  0.62877                        0.14145   \n",
       "2                     0.87464  0.64938                        0.48357   \n",
       "3                     0.88521  0.66973                        0.36503   \n",
       "4                     0.90563  0.63297                        0.32957   \n",
       "..                        ...      ...                            ...   \n",
       "153                   0.42864  0.59201                        0.55191   \n",
       "154                   0.31910  0.48450                        0.08010   \n",
       "155                   0.72193  0.15684                        0.18906   \n",
       "156                   0.22396  0.11850                        0.10062   \n",
       "157                   0.28443  0.36453                        0.10731   \n",
       "\n",
       "     Generosity  Dystopia Residual  \n",
       "0       0.29678            2.51738  \n",
       "1       0.43630            2.70201  \n",
       "2       0.34139            2.49204  \n",
       "3       0.34699            2.46531  \n",
       "4       0.45811            2.45176  \n",
       "..          ...                ...  \n",
       "153     0.22628            0.67042  \n",
       "154     0.18260            1.63328  \n",
       "155     0.47179            0.32858  \n",
       "156     0.19727            1.83302  \n",
       "157     0.16681            1.56726  \n",
       "\n",
       "[158 rows x 12 columns]"
      ]
     },
     "execution_count": 52,
     "metadata": {},
     "output_type": "execute_result"
    }
   ],
   "source": [
    "df"
   ]
  },
  {
   "cell_type": "code",
   "execution_count": null,
   "id": "870b121a",
   "metadata": {},
   "outputs": [],
   "source": []
  },
  {
   "cell_type": "code",
   "execution_count": 82,
   "id": "939ad094",
   "metadata": {},
   "outputs": [
    {
     "data": {
      "text/plain": [
       "0      Switze\n",
       "1      Icelan\n",
       "2      Denmar\n",
       "3      Norway\n",
       "4      Canada\n",
       "        ...  \n",
       "153    Rwanda\n",
       "154     Benin\n",
       "155     Syria\n",
       "156    Burund\n",
       "157      Togo\n",
       "Name: Country, Length: 158, dtype: object"
      ]
     },
     "execution_count": 82,
     "metadata": {},
     "output_type": "execute_result"
    }
   ],
   "source": [
    "df[\"Country\"].str[:6]"
   ]
  },
  {
   "cell_type": "code",
   "execution_count": null,
   "id": "062230a3",
   "metadata": {},
   "outputs": [],
   "source": []
  },
  {
   "cell_type": "code",
   "execution_count": 78,
   "id": "5cbef621",
   "metadata": {},
   "outputs": [
    {
     "data": {
      "text/plain": [
       "Country\n",
       "United    3\n",
       "Maurit    2\n",
       "Cyprus    2\n",
       "Switze    1\n",
       "Mongol    1\n",
       "         ..\n",
       "Slovak    1\n",
       "Uzbeki    1\n",
       "Guatem    1\n",
       "Salvad    1\n",
       "Burund    1\n",
       "Name: count, Length: 121, dtype: int64"
      ]
     },
     "execution_count": 78,
     "metadata": {},
     "output_type": "execute_result"
    }
   ],
   "source": [
    "unique_ts"
   ]
  },
  {
   "cell_type": "code",
   "execution_count": null,
   "id": "72c40117",
   "metadata": {},
   "outputs": [],
   "source": [
    "#Q10)"
   ]
  },
  {
   "cell_type": "code",
   "execution_count": 89,
   "id": "6cea5cde",
   "metadata": {},
   "outputs": [
    {
     "name": "stdout",
     "output_type": "stream",
     "text": [
      "['Ap12ik', 'j', 'Abdul12_', 'l', 'kalam', 'was', 'an', 'indian', 'aerospace', 'scientist', 'also', 'known', 'as', 'the', 'missile12345', 'man', 'india']\n"
     ]
    }
   ],
   "source": [
    "TS1=\"Ap12ik@j Abdul12_*l kalam was an indian aerospace scientist also known as the missile12345 man india\"\n",
    "pattern= ('[a-zA-Z0-9_]+')\n",
    "result= re.findall(pattern,TS1)\n",
    "print(result)"
   ]
  },
  {
   "cell_type": "code",
   "execution_count": null,
   "id": "30a1e524",
   "metadata": {},
   "outputs": [],
   "source": [
    "#Q12)"
   ]
  },
  {
   "cell_type": "code",
   "execution_count": 130,
   "id": "dadc447b",
   "metadata": {},
   "outputs": [
    {
     "name": "stdout",
     "output_type": "stream",
     "text": [
      "[]\n"
     ]
    }
   ],
   "source": [
    "TS1=\"Ap12ik@j Abdul12_*l kalam 112 was an indian 11aerospace scientist also known as the missile12345 man india\"\n",
    "pattern= ('\\A\\d')\n",
    "result= re.findall(pattern,TS1)\n",
    "print(result)"
   ]
  },
  {
   "cell_type": "code",
   "execution_count": null,
   "id": "a7081b32",
   "metadata": {},
   "outputs": [],
   "source": [
    "#Q13"
   ]
  },
  {
   "cell_type": "code",
   "execution_count": 133,
   "id": "fdef2456",
   "metadata": {},
   "outputs": [
    {
     "name": "stdout",
     "output_type": "stream",
     "text": [
      "192.168.1.1\n"
     ]
    }
   ],
   "source": [
    "text=\"000192.168.1.1\"\n",
    "pattern=r'\\b0+(\\d+)'\n",
    "expected= re.sub(pattern, r'\\1', text)\n",
    "print(expected)"
   ]
  },
  {
   "cell_type": "code",
   "execution_count": null,
   "id": "adb62f06",
   "metadata": {},
   "outputs": [],
   "source": [
    "#Q14)"
   ]
  },
  {
   "cell_type": "code",
   "execution_count": 143,
   "id": "3ef39e80",
   "metadata": {},
   "outputs": [
    {
     "name": "stdout",
     "output_type": "stream",
     "text": [
      "['August 15th 1947']\n"
     ]
    }
   ],
   "source": [
    "import re\n",
    "\n",
    "sample= \"On August 15th 1947 that India was declared independent from British colonialism, and the reins of control were handed over to the leaders of the Country.\"\n",
    "\n",
    "pattern = r'\\b([A-Z][a-z]+ \\d{1,2}(?:st|nd|rd|th)? \\d{4})\\b'\n",
    "\n",
    "required= re.findall(pattern,sample)\n",
    "print(required)"
   ]
  },
  {
   "cell_type": "code",
   "execution_count": null,
   "id": "7846589f",
   "metadata": {},
   "outputs": [],
   "source": [
    "#Q15"
   ]
  },
  {
   "cell_type": "code",
   "execution_count": 171,
   "id": "d5689cbc",
   "metadata": {},
   "outputs": [
    {
     "name": "stdout",
     "output_type": "stream",
     "text": [
      "Searching for \"fox\" in \"The quick brown fox jumps over the lazy dog.\" ->\n",
      "Matched!\n",
      "Searching for \"dog\" in \"The quick brown fox jumps over the lazy dog.\" ->\n",
      "Matched!\n",
      "Searching for \"horse\" in \"The quick brown fox jumps over the lazy dog.\" ->\n"
     ]
    }
   ],
   "source": [
    "import re\n",
    "patterns = [ 'fox', 'dog', 'horse' ]\n",
    "text = 'The quick brown fox jumps over the lazy dog.'\n",
    "for pattern in patterns:\n",
    "    print('Searching for \"%s\" in \"%s\" ->' % (pattern, text),)\n",
    "    if re.search(pattern,  text):\n",
    "        print('Matched!')"
   ]
  },
  {
   "cell_type": "code",
   "execution_count": 169,
   "id": "2bba350f",
   "metadata": {},
   "outputs": [
    {
     "ename": "SyntaxError",
     "evalue": "invalid syntax (565652092.py, line 2)",
     "output_type": "error",
     "traceback": [
      "\u001b[1;36m  Cell \u001b[1;32mIn[169], line 2\u001b[1;36m\u001b[0m\n\u001b[1;33m    patterns = '['fox', 'dog', 'horse' ]'\u001b[0m\n\u001b[1;37m                  ^\u001b[0m\n\u001b[1;31mSyntaxError\u001b[0m\u001b[1;31m:\u001b[0m invalid syntax\n"
     ]
    }
   ],
   "source": [
    "import re\n",
    "patterns = '['fox', 'dog', 'horse' ]'\n",
    "ts= 'The quick brown fox jumps over the lazy dog.'\n",
    "pattern=re.search(patterns,i)\n",
    "for i in ts:\n",
    "    print(pattern)"
   ]
  },
  {
   "cell_type": "code",
   "execution_count": null,
   "id": "80f75eb4",
   "metadata": {},
   "outputs": [],
   "source": [
    "#Q16"
   ]
  },
  {
   "cell_type": "code",
   "execution_count": 172,
   "id": "3d452ad7",
   "metadata": {},
   "outputs": [
    {
     "name": "stdout",
     "output_type": "stream",
     "text": [
      "Found \"fox\" in \"The quick brown fox jumps over the lazy dog.\" from 16 to 19 \n"
     ]
    }
   ],
   "source": [
    "pattern = 'fox'\n",
    "text = 'The quick brown fox jumps over the lazy dog.'\n",
    "match = re.search(pattern, text)\n",
    "s = match.start()\n",
    "e = match.end()\n",
    "print('Found \"%s\" in \"%s\" from %d to %d ' % \\\n",
    "    (match.re.pattern, match.string, s, e))"
   ]
  },
  {
   "cell_type": "code",
   "execution_count": 177,
   "id": "9636a2dc",
   "metadata": {},
   "outputs": [
    {
     "name": "stdout",
     "output_type": "stream",
     "text": [
      "<re.Match object; span=(16, 19), match='fox'>\n"
     ]
    }
   ],
   "source": [
    "text='The quick brown fox jumps over the lazy dog.'\n",
    "match_object=re.search('fox',text)\n",
    "print(match_object)"
   ]
  },
  {
   "cell_type": "code",
   "execution_count": 203,
   "id": "3de662d6",
   "metadata": {},
   "outputs": [
    {
     "name": "stdout",
     "output_type": "stream",
     "text": [
      "exercises\n",
      "exercises\n",
      "exercises\n"
     ]
    }
   ],
   "source": [
    "text = 'Python exercises, PHP exercises, C# exercises'\n",
    "pattern = 'exercises'\n",
    "for match in re.findall(pattern, text):\n",
    "    print( match)"
   ]
  },
  {
   "cell_type": "code",
   "execution_count": 209,
   "id": "f7f1d7f4",
   "metadata": {},
   "outputs": [
    {
     "name": "stdout",
     "output_type": "stream",
     "text": [
      "<re.Match object; span=(7, 16), match='exercises'>\n",
      "exercises\n",
      "<re.Match object; span=(22, 31), match='exercises'>\n",
      "exercises\n",
      "<re.Match object; span=(36, 45), match='exercises'>\n",
      "exercises\n"
     ]
    }
   ],
   "source": [
    "text = 'Python exercises, PHP exercises, C# exercises'\n",
    "result =re.finditer(\"exercises\",text)\n",
    "for match_object in result:\n",
    "    print(match_object)\n",
    "    print(match_object.group())"
   ]
  },
  {
   "cell_type": "code",
   "execution_count": 210,
   "id": "29e9c614",
   "metadata": {},
   "outputs": [
    {
     "name": "stdout",
     "output_type": "stream",
     "text": [
      "Indices of 'exercises': [7, 22, 36]\n"
     ]
    }
   ],
   "source": [
    "def find_substrings(sample_text, pattern):\n",
    "    \"\"\"\n",
    "    Finds occurrences of a substring within a given text using the find() method.\n",
    "    Args:\n",
    "        sample_text (str): The input sample text.\n",
    "        pattern (str): The substring to search for.\n",
    "\n",
    "    Returns:\n",
    "        list: List of indices where the substring occurs.\n",
    "    \"\"\"\n",
    "    indices = []\n",
    "    start_index = sample_text.find(pattern)\n",
    "    while start_index != -1:\n",
    "        indices.append(start_index)\n",
    "        start_index = sample_text.find(pattern, start_index + 1)\n",
    "    return indices\n",
    "\n",
    "# Example usage\n",
    "sample_text = 'Python exercises, PHP exercises, C# exercises'\n",
    "substring_to_find = 'exercises'\n",
    "result_indices = find_substrings(sample_text, substring_to_find)\n",
    "print(f\"Indices of '{substring_to_find}': {result_indices}\")"
   ]
  },
  {
   "cell_type": "code",
   "execution_count": null,
   "id": "a82e26f9",
   "metadata": {},
   "outputs": [],
   "source": []
  },
  {
   "cell_type": "code",
   "execution_count": null,
   "id": "d3d531e5",
   "metadata": {},
   "outputs": [],
   "source": [
    "#17)"
   ]
  },
  {
   "cell_type": "code",
   "execution_count": 211,
   "id": "b903493d",
   "metadata": {},
   "outputs": [
    {
     "name": "stdout",
     "output_type": "stream",
     "text": [
      "Found \"exercises\" at 7:16\n",
      "Found \"exercises\" at 22:31\n",
      "Found \"exercises\" at 36:45\n"
     ]
    }
   ],
   "source": [
    "text = 'Python exercises, PHP exercises, C# exercises'\n",
    "pattern = 'exercises'\n",
    "for match in re.finditer(pattern, text):\n",
    "    s = match.start()\n",
    "    e = match.end()\n",
    "    print('Found \"%s\" at %d:%d' % (text[s:e], s, e))"
   ]
  },
  {
   "cell_type": "code",
   "execution_count": null,
   "id": "746117b0",
   "metadata": {},
   "outputs": [],
   "source": []
  },
  {
   "cell_type": "code",
   "execution_count": null,
   "id": "e56752c2",
   "metadata": {},
   "outputs": [],
   "source": []
  },
  {
   "cell_type": "code",
   "execution_count": null,
   "id": "8f6d50c1",
   "metadata": {},
   "outputs": [],
   "source": []
  },
  {
   "cell_type": "code",
   "execution_count": null,
   "id": "63b65a15",
   "metadata": {},
   "outputs": [],
   "source": []
  }
 ],
 "metadata": {
  "kernelspec": {
   "display_name": "Python 3 (ipykernel)",
   "language": "python",
   "name": "python3"
  },
  "language_info": {
   "codemirror_mode": {
    "name": "ipython",
    "version": 3
   },
   "file_extension": ".py",
   "mimetype": "text/x-python",
   "name": "python",
   "nbconvert_exporter": "python",
   "pygments_lexer": "ipython3",
   "version": "3.11.5"
  }
 },
 "nbformat": 4,
 "nbformat_minor": 5
}
